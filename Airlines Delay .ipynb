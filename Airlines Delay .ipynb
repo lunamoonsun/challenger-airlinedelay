{
 "cells": [
  {
   "cell_type": "markdown",
   "id": "ebf9c1d6",
   "metadata": {},
   "source": [
    "# 1. Bibliotecas"
   ]
  },
  {
   "cell_type": "code",
   "execution_count": 2,
   "id": "db969655",
   "metadata": {},
   "outputs": [],
   "source": [
    "import pandas as pd\n",
    "import seaborn as sns\n",
    "import matplotlib.pyplot as plt\n",
    "%matplotlib inline\n",
    "\n",
    "from sklearn.tree import DecisionTreeClassifier \n",
    "from sklearn.model_selection import train_test_split\n",
    "from sklearn import metrics\n",
    "from sklearn.metrics import confusion_matrix, classification_report\n",
    "from sklearn.feature_selection import SelectKBest\n",
    "from sklearn import preprocessing "
   ]
  },
  {
   "cell_type": "markdown",
   "id": "10586eb2",
   "metadata": {},
   "source": [
    "# 2. Dataset"
   ]
  },
  {
   "cell_type": "code",
   "execution_count": 3,
   "id": "49bbc32c",
   "metadata": {},
   "outputs": [],
   "source": [
    "data = pd.read_csv('airlines_delay.csv')"
   ]
  },
  {
   "cell_type": "code",
   "execution_count": 4,
   "id": "4091ce07",
   "metadata": {},
   "outputs": [
    {
     "data": {
      "text/html": [
       "<div>\n",
       "<style scoped>\n",
       "    .dataframe tbody tr th:only-of-type {\n",
       "        vertical-align: middle;\n",
       "    }\n",
       "\n",
       "    .dataframe tbody tr th {\n",
       "        vertical-align: top;\n",
       "    }\n",
       "\n",
       "    .dataframe thead th {\n",
       "        text-align: right;\n",
       "    }\n",
       "</style>\n",
       "<table border=\"1\" class=\"dataframe\">\n",
       "  <thead>\n",
       "    <tr style=\"text-align: right;\">\n",
       "      <th></th>\n",
       "      <th>Flight</th>\n",
       "      <th>Time</th>\n",
       "      <th>Length</th>\n",
       "      <th>Airline</th>\n",
       "      <th>AirportFrom</th>\n",
       "      <th>AirportTo</th>\n",
       "      <th>DayOfWeek</th>\n",
       "      <th>Class</th>\n",
       "    </tr>\n",
       "  </thead>\n",
       "  <tbody>\n",
       "    <tr>\n",
       "      <th>0</th>\n",
       "      <td>2313.0</td>\n",
       "      <td>1296.0</td>\n",
       "      <td>141.0</td>\n",
       "      <td>DL</td>\n",
       "      <td>ATL</td>\n",
       "      <td>HOU</td>\n",
       "      <td>1</td>\n",
       "      <td>0</td>\n",
       "    </tr>\n",
       "    <tr>\n",
       "      <th>1</th>\n",
       "      <td>6948.0</td>\n",
       "      <td>360.0</td>\n",
       "      <td>146.0</td>\n",
       "      <td>OO</td>\n",
       "      <td>COS</td>\n",
       "      <td>ORD</td>\n",
       "      <td>4</td>\n",
       "      <td>0</td>\n",
       "    </tr>\n",
       "    <tr>\n",
       "      <th>2</th>\n",
       "      <td>1247.0</td>\n",
       "      <td>1170.0</td>\n",
       "      <td>143.0</td>\n",
       "      <td>B6</td>\n",
       "      <td>BOS</td>\n",
       "      <td>CLT</td>\n",
       "      <td>3</td>\n",
       "      <td>0</td>\n",
       "    </tr>\n",
       "    <tr>\n",
       "      <th>3</th>\n",
       "      <td>31.0</td>\n",
       "      <td>1410.0</td>\n",
       "      <td>344.0</td>\n",
       "      <td>US</td>\n",
       "      <td>OGG</td>\n",
       "      <td>PHX</td>\n",
       "      <td>6</td>\n",
       "      <td>0</td>\n",
       "    </tr>\n",
       "    <tr>\n",
       "      <th>4</th>\n",
       "      <td>563.0</td>\n",
       "      <td>692.0</td>\n",
       "      <td>98.0</td>\n",
       "      <td>FL</td>\n",
       "      <td>BMI</td>\n",
       "      <td>ATL</td>\n",
       "      <td>4</td>\n",
       "      <td>0</td>\n",
       "    </tr>\n",
       "  </tbody>\n",
       "</table>\n",
       "</div>"
      ],
      "text/plain": [
       "   Flight    Time  Length Airline AirportFrom AirportTo  DayOfWeek  Class\n",
       "0  2313.0  1296.0   141.0      DL         ATL       HOU          1      0\n",
       "1  6948.0   360.0   146.0      OO         COS       ORD          4      0\n",
       "2  1247.0  1170.0   143.0      B6         BOS       CLT          3      0\n",
       "3    31.0  1410.0   344.0      US         OGG       PHX          6      0\n",
       "4   563.0   692.0    98.0      FL         BMI       ATL          4      0"
      ]
     },
     "execution_count": 4,
     "metadata": {},
     "output_type": "execute_result"
    }
   ],
   "source": [
    "data.head()"
   ]
  },
  {
   "cell_type": "code",
   "execution_count": 5,
   "id": "d31535e0",
   "metadata": {},
   "outputs": [],
   "source": [
    "data_backup = data # O data_backup vai ser utilizado para trabalhar os gráficos"
   ]
  },
  {
   "cell_type": "markdown",
   "id": "1c2be12a",
   "metadata": {},
   "source": [
    "# 3. Feature Engineering "
   ]
  },
  {
   "cell_type": "code",
   "execution_count": 6,
   "id": "b78287d0",
   "metadata": {},
   "outputs": [],
   "source": [
    "labels = data['Class']\n",
    "data = data.drop('Class', axis=1)\n",
    "data = data.drop('Flight', axis=1) "
   ]
  },
  {
   "cell_type": "code",
   "execution_count": 7,
   "id": "77a9719a",
   "metadata": {},
   "outputs": [
    {
     "name": "stdout",
     "output_type": "stream",
     "text": [
      "Airline:  ['DL' 'OO' 'B6' 'US' 'FL' 'WN' 'CO' 'AA' 'YV' 'EV' 'XE' '9E' 'OH' 'UA'\n",
      " 'MQ' 'AS' 'F9' 'HA']\n",
      "Aiport from:  ['ATL' 'COS' 'BOS' 'OGG' 'BMI' 'MSY' 'EWR' 'DFW' 'BWI' 'CRW' 'LGB' 'BIS'\n",
      " 'CLT' 'IAH' 'LAX' 'JAX' 'SAV' 'CLE' 'FLL' 'SAN' 'BHM' 'ROC' 'DTW' 'STT'\n",
      " 'AUS' 'DCA' 'PHX' 'EYW' 'IND' 'JFK' 'ORD' 'PBI' 'SFO' 'MIA' 'DSM' 'SLC'\n",
      " 'PHL' 'BZN' 'GRB' 'MBS' 'SBA' 'TYS' 'MSP' 'DEN' 'SAT' 'BUF' 'RIC' 'SEA'\n",
      " 'PDX' 'LAS' 'IAD' 'HNL' 'BDL' 'MOT' 'PSE' 'CPR' 'SNA' 'STL' 'CVG' 'PIT'\n",
      " 'HSV' 'SGF' 'RDU' 'MEM' 'KOA' 'ELP' 'SJU' 'JAN' 'AEX' 'LGA' 'RSW' 'MDT'\n",
      " 'GUC' 'MKE' 'CAE' 'GRR' 'FAR' 'LIT' 'OMA' 'BNA' 'EVV' 'RDD' 'OKC' 'ITO'\n",
      " 'SJC' 'MCO' 'LBB' 'CSG' 'OAK' 'PHF' 'ABQ' 'SMF' 'FAY' 'ABI' 'MSO' 'MFE'\n",
      " 'GEG' 'MSN' 'TPA' 'DAY' 'RNO' 'PVD' 'ALB' 'CHO' 'ONT' 'LIH' 'PSP' 'LAN'\n",
      " 'LEX' 'XNA' 'GJT' 'CMH' 'GSO' 'PSC' 'SYR' 'AVL' 'MHT' 'GRK' 'MCI' 'TXK'\n",
      " 'LRD' 'ABE' 'LWB' 'ERI' 'DAL' 'ANC' 'TUS' 'ROA' 'MOD' 'JNU' 'SBP' 'CDV'\n",
      " 'TUL' 'FSD' 'FNT' 'BTV' 'FCA' 'GNV' 'RAP' 'MDW' 'FWA' 'BUR' 'PNS' 'RST'\n",
      " 'HOU' 'BOI' 'CRP' 'BRO' 'ATW' 'SHV' 'SMX' 'RDM' 'ORF' 'GPT' 'KTN' 'ICT'\n",
      " 'SAF' 'CAK' 'IDA' 'MQT' 'VPS' 'CHS' 'MAF' 'HPN' 'AVP' 'AZO' 'TRI' 'GSP'\n",
      " 'HDN' 'MLU' 'EUG' 'AMA' 'MHK' 'ISP' 'CID' 'MOB' 'BGR' 'SRQ' 'MLI' 'EKO'\n",
      " 'LFT' 'TOL' 'ECP' 'PSG' 'SBN' 'FAT' 'ELM' 'YUM' 'CLD' 'FAI' 'ASE' 'BTR'\n",
      " 'BQK' 'COU' 'MRY' 'CEC' 'CWA' 'PWM' 'FLG' 'TLH' 'SDF' 'BFL' 'CHA' 'ACV'\n",
      " 'MGM' 'ROW' 'GTR' 'EWN' 'ILM' 'OTZ' 'SGU' 'OTH' 'CMX' 'SWF' 'BET' 'GTF'\n",
      " 'CMI' 'MFR' 'JAC' 'DLH' 'ABY' 'MTJ' 'SCC' 'DRO' 'TEX' 'FSM' 'COD' 'GGG'\n",
      " 'DBQ' 'GFK' 'BKG' 'AGS' 'BTM' 'DHN' 'TYR' 'EGE' 'PIH' 'VLD' 'MEI' 'SIT'\n",
      " 'MLB' 'PAH' 'YAK' 'DAB' 'HLN' 'PIA' 'SPI' 'GCC' 'IPL' 'TVC' 'OAJ' 'EAU'\n",
      " 'BGM' 'MYR' 'HRL' 'MKG' 'SUN' 'LSE' 'CIC' 'OME' 'ITH' 'LNK' 'BIL' 'CYS'\n",
      " 'LCH' 'BQN' 'WRG' 'BRW' 'SPS' 'RKS' 'TWF' 'LMT' 'ACT' 'PLN' 'ACY' 'ADK'\n",
      " 'SJT' 'IYK' 'LWS' 'BLI' 'SCE' 'MMH' 'LYH' 'GUM' 'CDC' 'ADQ' 'HTS' 'PIE'\n",
      " 'STX' 'FLO' 'UTM' 'CLL' 'ABR']\n",
      "Aiport to:  ['HOU' 'ORD' 'CLT' 'PHX' 'ATL' 'BHM' 'DFW' 'MEM' 'GRR' 'PBI' 'MCO' 'SFO'\n",
      " 'DEN' 'YUM' 'BWI' 'HPN' 'EWR' 'JFK' 'MKE' 'OAK' 'IAH' 'CLE' 'SYR' 'SJU'\n",
      " 'BDL' 'SAN' 'DTW' 'PSP' 'DCA' 'LGA' 'STL' 'FAY' 'MSP' 'BUF' 'LAS' 'SGU'\n",
      " 'SLC' 'GJT' 'LAX' 'VPS' 'FAR' 'RKS' 'BOS' 'ANC' 'SNA' 'ONT' 'RNO' 'JAX'\n",
      " 'GSP' 'CVG' 'TPA' 'SEA' 'LEX' 'SMF' 'CAE' 'STT' 'DAY' 'MDW' 'RSW' 'ITO'\n",
      " 'IAD' 'ICT' 'HNL' 'MIA' 'CRW' 'RDU' 'MHT' 'FAT' 'CAK' 'COS' 'DAL' 'TYS'\n",
      " 'PHL' 'ABI' 'MOB' 'SDF' 'SAV' 'MDT' 'LIT' 'TUL' 'ACV' 'BNA' 'MCI' 'MSY'\n",
      " 'FLL' 'PVD' 'OKC' 'ECP' 'PHF' 'AUS' 'RIC' 'LIH' 'ABQ' 'JAN' 'PIT' 'BMI'\n",
      " 'BTV' 'RAP' 'MRY' 'CSG' 'SHV' 'FAI' 'SJC' 'PIA' 'SBN' 'IND' 'SGF' 'ACT'\n",
      " 'SRQ' 'ROC' 'CHO' 'JAC' 'SAT' 'FWA' 'OMA' 'PDX' 'CMH' 'PWM' 'CID' 'TRI'\n",
      " 'ORF' 'GTF' 'TUS' 'MHK' 'BUR' 'MLU' 'CEC' 'TEX' 'MBS' 'DSM' 'HRL' 'LFT'\n",
      " 'ELP' 'AEX' 'CPR' 'LBB' 'MYR' 'ALB' 'COU' 'LSE' 'CHA' 'MLI' 'GEG' 'AZO'\n",
      " 'MFR' 'BTR' 'FLG' 'KTN' 'PSC' 'GSO' 'OGG' 'MSN' 'GPT' 'PNS' 'RDM' 'BZN'\n",
      " 'DLH' 'CRP' 'TXK' 'KOA' 'MQT' 'MAF' 'TLH' 'XNA' 'CWA' 'SBP' 'BFL' 'DRO'\n",
      " 'WRG' 'DHN' 'SPS' 'AMA' 'EGE' 'BET' 'FCA' 'EUG' 'EVV' 'AVL' 'HSV' 'PIE'\n",
      " 'MLB' 'SWF' 'ASE' 'BGM' 'MSO' 'ADK' 'GRK' 'SUN' 'SBA' 'LGB' 'CHS' 'GNV'\n",
      " 'MOT' 'LAN' 'LNK' 'OME' 'OTH' 'ISP' 'FNT' 'EAU' 'ILM' 'BRW' 'LCH' 'IYK'\n",
      " 'MKG' 'HDN' 'BRO' 'GRB' 'FSD' 'LRD' 'RDD' 'SPI' 'ROA' 'IPL' 'EYW' 'SAF'\n",
      " 'LWS' 'AGS' 'CMX' 'ATW' 'MGM' 'GGG' 'BOI' 'FLO' 'COD' 'ACY' 'CMI' 'JNU'\n",
      " 'AVP' 'ERI' 'TYR' 'DAB' 'TVC' 'FSM' 'IDA' 'MFE' 'EKO' 'ABE' 'PAH' 'LMT'\n",
      " 'YAK' 'HLN' 'MMH' 'ITH' 'LYH' 'BIL' 'EWN' 'SMX' 'MEI' 'OAJ' 'SCE' 'CLD'\n",
      " 'BIS' 'GFK' 'MTJ' 'BQN' 'BQK' 'GTR' 'CDV' 'BKG' 'PIH' 'ROW' 'PLN' 'TWF'\n",
      " 'ELM' 'GCC' 'CYS' 'CDC' 'ABY' 'VLD' 'MOD' 'STX' 'OTZ' 'HTS' 'BTM' 'PSE'\n",
      " 'SCC' 'RST' 'DBQ' 'ADQ' 'PSG' 'SIT' 'GUC' 'LWB' 'BGR' 'CIC' 'GUM' 'UTM'\n",
      " 'CLL' 'TOL' 'SJT' 'BLI' 'ABR']\n"
     ]
    }
   ],
   "source": [
    "# Transformando os dados categóricos em numéricos\n",
    "\n",
    "print(\"Airline: \", data['Airline'].unique())\n",
    "print(\"Aiport from: \", data['AirportFrom'].unique())\n",
    "print(\"Aiport to: \", data['AirportTo'].unique())"
   ]
  },
  {
   "cell_type": "code",
   "execution_count": 8,
   "id": "363df20a",
   "metadata": {},
   "outputs": [],
   "source": [
    "# transformando os valores:\n",
    "\n",
    "label_encoder = preprocessing.LabelEncoder()\n",
    "\n",
    "data['Airline'] = label_encoder.fit_transform(data['Airline'])\n",
    "data['AirportTo'] = label_encoder.fit_transform(data['AirportTo'])\n",
    "data['AirportFrom'] = label_encoder.fit_transform(data['AirportFrom'])"
   ]
  },
  {
   "cell_type": "code",
   "execution_count": 9,
   "id": "b8243286",
   "metadata": {},
   "outputs": [
    {
     "data": {
      "text/html": [
       "<div>\n",
       "<style scoped>\n",
       "    .dataframe tbody tr th:only-of-type {\n",
       "        vertical-align: middle;\n",
       "    }\n",
       "\n",
       "    .dataframe tbody tr th {\n",
       "        vertical-align: top;\n",
       "    }\n",
       "\n",
       "    .dataframe thead th {\n",
       "        text-align: right;\n",
       "    }\n",
       "</style>\n",
       "<table border=\"1\" class=\"dataframe\">\n",
       "  <thead>\n",
       "    <tr style=\"text-align: right;\">\n",
       "      <th></th>\n",
       "      <th>Time</th>\n",
       "      <th>Length</th>\n",
       "      <th>Airline</th>\n",
       "      <th>AirportFrom</th>\n",
       "      <th>AirportTo</th>\n",
       "      <th>DayOfWeek</th>\n",
       "    </tr>\n",
       "  </thead>\n",
       "  <tbody>\n",
       "    <tr>\n",
       "      <th>0</th>\n",
       "      <td>1296.0</td>\n",
       "      <td>141.0</td>\n",
       "      <td>5</td>\n",
       "      <td>16</td>\n",
       "      <td>129</td>\n",
       "      <td>1</td>\n",
       "    </tr>\n",
       "    <tr>\n",
       "      <th>1</th>\n",
       "      <td>360.0</td>\n",
       "      <td>146.0</td>\n",
       "      <td>12</td>\n",
       "      <td>65</td>\n",
       "      <td>208</td>\n",
       "      <td>4</td>\n",
       "    </tr>\n",
       "    <tr>\n",
       "      <th>2</th>\n",
       "      <td>1170.0</td>\n",
       "      <td>143.0</td>\n",
       "      <td>3</td>\n",
       "      <td>35</td>\n",
       "      <td>60</td>\n",
       "      <td>3</td>\n",
       "    </tr>\n",
       "    <tr>\n",
       "      <th>3</th>\n",
       "      <td>1410.0</td>\n",
       "      <td>344.0</td>\n",
       "      <td>14</td>\n",
       "      <td>203</td>\n",
       "      <td>217</td>\n",
       "      <td>6</td>\n",
       "    </tr>\n",
       "    <tr>\n",
       "      <th>4</th>\n",
       "      <td>692.0</td>\n",
       "      <td>98.0</td>\n",
       "      <td>8</td>\n",
       "      <td>32</td>\n",
       "      <td>16</td>\n",
       "      <td>4</td>\n",
       "    </tr>\n",
       "  </tbody>\n",
       "</table>\n",
       "</div>"
      ],
      "text/plain": [
       "     Time  Length  Airline  AirportFrom  AirportTo  DayOfWeek\n",
       "0  1296.0   141.0        5           16        129          1\n",
       "1   360.0   146.0       12           65        208          4\n",
       "2  1170.0   143.0        3           35         60          3\n",
       "3  1410.0   344.0       14          203        217          6\n",
       "4   692.0    98.0        8           32         16          4"
      ]
     },
     "execution_count": 9,
     "metadata": {},
     "output_type": "execute_result"
    }
   ],
   "source": [
    "data.head()"
   ]
  },
  {
   "cell_type": "code",
   "execution_count": 10,
   "id": "8025d303",
   "metadata": {},
   "outputs": [
    {
     "data": {
      "text/plain": [
       "Index(['Time', 'Length', 'Airline', 'AirportFrom', 'AirportTo', 'DayOfWeek'], dtype='object')"
      ]
     },
     "execution_count": 10,
     "metadata": {},
     "output_type": "execute_result"
    }
   ],
   "source": [
    "data.columns"
   ]
  },
  {
   "cell_type": "code",
   "execution_count": 11,
   "id": "9175738e",
   "metadata": {},
   "outputs": [
    {
     "name": "stdout",
     "output_type": "stream",
     "text": [
      "\n",
      "Melhores features:\n",
      "{'Length': 12492.88502628086, 'AirportFrom': 2427.518370673628, 'DayOfWeek': 1244.9779779098708, 'Airline': 885.6581756790663, 'AirportTo': 183.81975943262412}\n"
     ]
    }
   ],
   "source": [
    "# Qual feature é mais importante para o estudo de ML? \n",
    "\n",
    "features_list = ('Time', 'Length', 'Airline', 'AirportFrom', 'AirportTo', 'DayOfWeek')\n",
    "features = (data)\n",
    "\n",
    "k_best_features = SelectKBest(k='all')\n",
    "k_best_features.fit_transform(features, labels)\n",
    "k_best_features_scores = k_best_features.scores_\n",
    "raw_pairs = zip(features_list[1:], k_best_features_scores)\n",
    "ordered_pairs = list(reversed(sorted(raw_pairs, key=lambda x: x[1])))\n",
    "\n",
    "k_best_features_final = dict(ordered_pairs[:15])\n",
    "best_features = k_best_features_final.keys()\n",
    "print ('')\n",
    "print (\"Melhores features:\")\n",
    "print (k_best_features_final)"
   ]
  },
  {
   "cell_type": "markdown",
   "id": "a506f226",
   "metadata": {},
   "source": [
    "# 4. ML - Aplicação "
   ]
  },
  {
   "cell_type": "code",
   "execution_count": 12,
   "id": "0ca9d52b",
   "metadata": {},
   "outputs": [],
   "source": [
    "X = data\n",
    "y = labels"
   ]
  },
  {
   "cell_type": "code",
   "execution_count": 13,
   "id": "b9a85fbd",
   "metadata": {},
   "outputs": [],
   "source": [
    "X_train, X_test, y_train, y_test = train_test_split(X, y, test_size=0.3, random_state=1)"
   ]
  },
  {
   "cell_type": "code",
   "execution_count": 14,
   "id": "52f9c4d6",
   "metadata": {},
   "outputs": [],
   "source": [
    "clf = DecisionTreeClassifier()"
   ]
  },
  {
   "cell_type": "code",
   "execution_count": 15,
   "id": "d18fd9bd",
   "metadata": {},
   "outputs": [],
   "source": [
    "clf = clf.fit(X_train, y_train)"
   ]
  },
  {
   "cell_type": "code",
   "execution_count": 16,
   "id": "0da64994",
   "metadata": {},
   "outputs": [],
   "source": [
    "y_pred = clf.predict(X_test)"
   ]
  },
  {
   "cell_type": "code",
   "execution_count": 17,
   "id": "802090a6",
   "metadata": {},
   "outputs": [
    {
     "name": "stdout",
     "output_type": "stream",
     "text": [
      "Acurácia:  0.6100855915706208\n",
      "ROC/AUC:  0.5975126954677742\n",
      "Precision:  0.5758224612422401\n",
      "Recall:  0.48028520005537867\n",
      "F1-Score:  0.5237326006219994\n"
     ]
    }
   ],
   "source": [
    "# Verificando os resultados \n",
    "\n",
    "print(\"Acurácia: \", metrics.accuracy_score(y_test, y_pred))\n",
    "print(\"ROC/AUC: \", metrics.roc_auc_score(y_test, y_pred))\n",
    "print(\"Precision: \", metrics.precision_score(y_test, y_pred))\n",
    "print(\"Recall: \", metrics.recall_score(y_test, y_pred))\n",
    "print(\"F1-Score: \", metrics.f1_score(y_test, y_pred))"
   ]
  },
  {
   "cell_type": "markdown",
   "id": "78db30e1",
   "metadata": {},
   "source": [
    "Os resultados poderiam ser melhores, acredito com um estudo de feature engineering possa melhorar esse valores. "
   ]
  }
 ],
 "metadata": {
  "kernelspec": {
   "display_name": "Python 3",
   "language": "python",
   "name": "python3"
  },
  "language_info": {
   "codemirror_mode": {
    "name": "ipython",
    "version": 3
   },
   "file_extension": ".py",
   "mimetype": "text/x-python",
   "name": "python",
   "nbconvert_exporter": "python",
   "pygments_lexer": "ipython3",
   "version": "3.8.8"
  }
 },
 "nbformat": 4,
 "nbformat_minor": 5
}
